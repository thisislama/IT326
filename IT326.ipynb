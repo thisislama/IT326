{
  "cells": [
    {
      "cell_type": "markdown",
      "metadata": {
        "trusted": true
      },
      "source": [
        "The goal of collecting this dataset:\n",
        " The dataset on car accidents is collected to enable predictive modeling of traffic incidents. The primary\n",
        "  objective is to identify patterns and key factors contributing to car accidents, such as collision \n",
        "  severity, weather conditions, road types, and contributing elements. By using this data, predictive \n",
        "  models can be developed to forecast the likelihood and severity of future accidents, with the aim of \n",
        "  improving road safety, optimizing traffic management, and informing policy decisions."
      ]
    },
    {
      "cell_type": "code",
      "execution_count": null,
      "metadata": {
        "vscode": {
          "languageId": "plaintext"
        }
      },
      "outputs": [],
      "source": [
        "import pandas as pd\n",
        "\n",
        "data = pd.read_csv(r\"\\Users\\hoora\\OneDrive\\Desktop\\IT326\\monroe county car crach 2003-2015.csv\", encoding=\"windows-1252\")  \n",
        "print(data.info()) \n"
      ]
    },
    {
      "cell_type": "markdown",
      "metadata": {},
      "source": [
        "Link/Resource of this dataset: https://www.kaggle.com/datasets/jacksondivakarr/car-crash-dataset?resource=download - Car Accidents in USA more specific LA-monroe\n"
      ]
    },
    {
      "cell_type": "code",
      "execution_count": null,
      "metadata": {
        "vscode": {
          "languageId": "plaintext"
        }
      },
      "outputs": [],
      "source": []
    }
  ],
  "metadata": {
    "kernelspec": {
      "display_name": "Python (Pyodide)",
      "language": "python",
      "name": "python"
    },
    "language_info": {
      "name": ""
    }
  },
  "nbformat": 4,
  "nbformat_minor": 4
}
