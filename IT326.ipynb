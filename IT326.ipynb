{
  "cells": [
    {
      "cell_type": "markdown",
      "metadata": {
        "trusted": true
      },
      "source": [
        "The goal of collecting this dataset:\n",
        " The dataset on car accidents is collected to enable predictive modeling of traffic incidents. The primary\n",
        "  objective is to identify patterns and key factors contributing to car accidents, such as collision \n",
        "  severity, weather conditions, road types, and contributing elements. By using this data, predictive \n",
        "  models can be developed to classify the likelihood of future accidents, with the aim of \n",
        "  improving road safety, optimizing traffic management, and informing policy decisions."
      ]
    },
    {
      "cell_type": "code",
      "execution_count": 7,
      "metadata": {},
      "outputs": [
        {
          "name": "stdout",
          "output_type": "stream",
          "text": [
            "<class 'pandas.core.frame.DataFrame'>\n",
            "RangeIndex: 53943 entries, 0 to 53942\n",
            "Data columns (total 11 columns):\n",
            " #   Column             Non-Null Count  Dtype  \n",
            "---  ------             --------------  -----  \n",
            " 0   Year               53943 non-null  int64  \n",
            " 1   Month              53943 non-null  int64  \n",
            " 2   Day                53943 non-null  int64  \n",
            " 3   Weekend?           53875 non-null  object \n",
            " 4   Hour               53718 non-null  float64\n",
            " 5   Collision Type     53937 non-null  object \n",
            " 6   Injury Type        53943 non-null  object \n",
            " 7   Primary Factor     52822 non-null  object \n",
            " 8   Reported_Location  53908 non-null  object \n",
            " 9   Latitude           53913 non-null  float64\n",
            " 10  Longitude          53913 non-null  float64\n",
            "dtypes: float64(3), int64(3), object(5)\n",
            "memory usage: 4.5+ MB\n",
            "None\n"
          ]
        }
      ],
      "source": [
        "import pandas as pd\n",
        "##--\n",
        "data = pd.read_csv('/workspaces/IT326/Dataset/monroe county car crach 2003-2015.csv', encoding='ISO-8859-1')  \n",
        "print(data.info()) "
      ]
    },
    {
      "cell_type": "markdown",
      "metadata": {},
      "source": [
        "Link/Resource of this dataset: https://www.kaggle.com/datasets/jacksondivakarr/car-crash-dataset?resource=download - Car Accidents in USA more specific LA-monroe\n",
        "Number of Rows: 53943\n",
        "Number of Columns: 11\n"
      ]
    },
    {
      "cell_type": "code",
      "execution_count": null,
      "metadata": {},
      "outputs": [],
      "source": []
    }
  ],
  "metadata": {
    "kernelspec": {
      "display_name": "Python 3 (ipykernel)",
      "language": "python",
      "name": "python3"
    },
    "language_info": {
      "codemirror_mode": {
        "name": "ipython",
        "version": 3
      },
      "file_extension": ".py",
      "mimetype": "text/x-python",
      "name": "python",
      "nbconvert_exporter": "python",
      "pygments_lexer": "ipython3",
      "version": "3.12.1"
    }
  },
  "nbformat": 4,
  "nbformat_minor": 4
}
