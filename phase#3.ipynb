{
 "cells": [
  {
   "cell_type": "code",
   "execution_count": null,
   "metadata": {
    "vscode": {
     "languageId": "plaintext"
    }
   },
   "outputs": [],
   "source": [
    "import pandas as pd\n",
    "from sklearn.tree import DecisionTreeClassifier\n",
    "from sklearn.model_selection import train_test_split\n",
    "from sklearn import metrics\n",
    "from sklearn.metrics import confusion_matrix\n",
    "import matplotlib.pyplot as plt\n",
    "from sklearn.metrics import ConfusionMatrixDisplay\n",
    "from sklearn import tree\n",
    "\n",
    "\n",
    "#load data\n",
    "df = pd.read_csv(\"processed_data.csv\")\n",
    "\n",
    "#split dataset in features and target variable\n",
    "fn = ['Year', 'Month', 'Day', 'Weekend?','Hour', 'Collision Type', 'Injury Type', 'Primary Factor', 'Latitude', 'Longitude', 'Hour_Bin'] #df column names without column risk level\n",
    "X = df[fn] # feature names\n",
    "y = df['Risk Level'] # Target variable\n",
    "\n",
    "#split dataset into training set and test set\n",
    "X_train ,X_test ,y_train ,y_test = train_test_split(X,y,test_size=0.5,random_state=1) # %50 test %50 training\n",
    "\n",
    "#Create Decision Tree classifier Object\n",
    "clf = DecisionTreeClassifier(criterion=\"entropy\", max_depth=3)\n",
    "\n",
    "#Train Decision Tree classifier\n",
    "clf = clf.fit(X_train,y_train)\n",
    "\n",
    "#predict the response for test Data\n",
    "y_pred = clf.predict(X_test)\n",
    "\n",
    "# Model Accuracy, How often is the classfier correct?\n",
    "print(\"Accuracy:\",metrics.accuracy_score(y_test,y_pred))\n",
    "\n",
    "# Compute and print the confusion matirx \n",
    "cm = confusion_matrix(y_test,y_pred)\n",
    "print(cm)\n",
    "\n",
    "# classes_names\n",
    "cn = df['Risk Level'].unique()\n",
    "\n",
    "#create confusion matrix display object\n",
    "disp = ConfusionMatrixDisplay.from_estimator(clf, X_test, y_test, display_labels=cn)\n",
    "\n",
    "# setting dpi =800 to make image clearer than default\n",
    "fig, axes = plt.subplots(nrows = 1, figsize=(4,4), dpi=800)\n",
    "\n",
    "tree.plot_tree(clf, feature_names=fn, class_names=cn, filled=True);\n",
    "\n",
    "#saving plot\n",
    "fig.savefig('/Users/mohammedalgumlas/Desktop/noor ALGUMLAS/data_DT.png')\n",
    "\n",
    "import pickle\n",
    "# save your model to a file\n",
    "filename = 'decision_tree_model.sav'\n",
    "pickle.dump(clf, open(filename, 'wb'))\n",
    "\n",
    "# load  model from a file\n",
    "loaded_model = pickle.load(open(filename,'rb'))\n",
    "\n",
    "# Make predictions with the model on test data\n",
    "predictions = loaded_model.predict(X_test)\n",
    "print(\"predictions for test data: \\n\",predictions)\n"
   ]
  }
 ],
 "metadata": {
  "language_info": {
   "name": "python"
  }
 },
 "nbformat": 4,
 "nbformat_minor": 2
}
